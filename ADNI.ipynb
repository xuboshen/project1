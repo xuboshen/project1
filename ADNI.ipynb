{
 "cells": [
  {
   "cell_type": "markdown",
   "metadata": {},
   "source": [
    "# 第三个数据集：ANDI_90_120"
   ]
  },
  {
   "cell_type": "markdown",
   "metadata": {},
   "source": [
    "来自Dr.SheN贴心的注释：\n",
    "\n",
    "每次训练的时候，请在上方选择：Kernel-Restart and Run All哦，不然可能出现一些小问题\n",
    "\n",
    "默认算法：线性回归\n",
    "\n",
    "默认数据集：PPMI\n",
    "\n",
    "默认training set：validation set：test set = 8：1：1\n",
    "\n",
    "默认优化算法：SGD\n",
    "\n",
    "默认loss：MSELoss（如果是深度方法，由于是二分类问题，建议改成BCE Loss）\n",
    "\n",
    "这份代码默认实现的是线性回归的训练代码，如果要改成深度方法的代码，要注意outputs = net(inputs)的前向传播的维度和输出。"
   ]
  },
  {
   "cell_type": "markdown",
   "metadata": {},
   "source": [
    "## 数据集探索"
   ]
  },
  {
   "cell_type": "code",
   "execution_count": 1,
   "metadata": {},
   "outputs": [],
   "source": [
    "import scipy.io as sio\n",
    "import numpy as np\n",
    "import matplotlib.pyplot as plt\n",
    "from sklearn.manifold import TSNE\n",
    "from sklearn.decomposition import PCA"
   ]
  },
  {
   "cell_type": "code",
   "execution_count": 2,
   "metadata": {},
   "outputs": [
    {
     "data": {
      "text/plain": [
       "{'__header__': b'MATLAB 5.0 MAT-file, Platform: PCWIN64, Created on: Wed Sep 15 16:11:13 2021',\n",
       " '__version__': '1.0',\n",
       " '__globals__': [],\n",
       " 'AD': array([[[ 17.32221045,  35.2183282 ,  31.41239062, ...,  15.83965103,\n",
       "           12.02788701,  -2.11720996],\n",
       "         [ -1.84803002,  32.25945929,  41.2600806 , ...,   6.20091222,\n",
       "            1.65978509, -11.0913046 ],\n",
       "         [ 11.88802015,  27.52254262,  16.81859297, ..., -15.47520737,\n",
       "          -21.60318855, -13.39308646],\n",
       "         ...,\n",
       "         [ 19.39172209,  63.24957925, 119.79025766, ..., -47.09657481,\n",
       "          -44.87948125,  -8.14558937],\n",
       "         [  4.02395296,   3.80404437,   9.57548748, ..., -87.7656772 ,\n",
       "          -56.30940354,  12.80995751],\n",
       "         [ 22.53289972,  33.2054774 ,  44.3151234 , ..., -43.26276103,\n",
       "          -25.95300174,   7.71252908]],\n",
       " \n",
       "        [[ 25.86615183,  31.10776595,  29.7348211 , ..., -51.80237018,\n",
       "          -50.24910016, -50.76854907],\n",
       "         [-28.6080813 , -17.08629953,  -2.61494045, ..., -15.6498464 ,\n",
       "            2.01052553,  16.57602834],\n",
       "         [ 14.87811173,  34.14171887,  34.7248783 , ..., -46.44915715,\n",
       "          -49.65485581, -59.05431254],\n",
       "         ...,\n",
       "         [ 42.85886793,  44.37789382,  45.88113693, ..., -13.6123647 ,\n",
       "          -16.3186606 , -13.11981233],\n",
       "         [ -5.30211965,  -7.78735965,  -7.93673133, ...,   4.14029824,\n",
       "            7.74468047,  15.05008512],\n",
       "         [ 14.19092132,  22.61413582,  29.10549267, ..., -44.40941491,\n",
       "          -42.26292187, -35.00603578]],\n",
       " \n",
       "        [[ 36.49010481,  52.15668449,  62.65674683, ..., -43.80447067,\n",
       "          -44.37977812, -49.88886858],\n",
       "         [ 13.23972183,  29.04704458,  42.67224191, ..., -21.11783373,\n",
       "          -27.49562288, -26.4799551 ],\n",
       "         [ 41.74617553,  53.51891169,  58.42412385, ..., -65.34347008,\n",
       "          -59.56616704, -50.83585896],\n",
       "         ...,\n",
       "         [  7.86738277,   7.73381988,   9.88767355, ..., -24.32873565,\n",
       "          -19.57563809, -16.5834986 ],\n",
       "         [  5.68043021,  13.28246381,  19.5741269 , ...,   7.20848623,\n",
       "            3.7404359 ,   1.66565446],\n",
       "         [ 22.27525387,  22.18693452,  17.23197915, ..., -27.61963115,\n",
       "          -24.58957117, -20.96606758]],\n",
       " \n",
       "        ...,\n",
       " \n",
       "        [[ 76.02042325,  86.53159398,  81.7971549 , ..., -96.33574502,\n",
       "          -37.8162493 ,  -4.65606931],\n",
       "         [ 47.72513482,  57.94343999,  64.84826031, ..., -76.22582189,\n",
       "          -16.37813055,  17.1486027 ],\n",
       "         [ 32.99445043,  29.82186981,  26.05619289, ..., -30.37622977,\n",
       "           -7.2219661 , -10.65974468],\n",
       "         ...,\n",
       "         [  4.67874813,  11.67069552,   6.67749535, ..., -16.08473971,\n",
       "          -14.92008341,  -7.77230263],\n",
       "         [  3.27148509,  16.89646884,  27.55013024, ..., -27.46360603,\n",
       "           -7.08155989,   9.4289549 ],\n",
       "         [ 11.98387742,  30.56482739,  37.6752198 , ..., -28.65904844,\n",
       "          -13.06626879,  -2.03215069]],\n",
       " \n",
       "        [[ 67.10569842,  60.36056262,  46.14465817, ...,  -8.66001537,\n",
       "           21.09895005,  26.97673016],\n",
       "         [ 64.37873984,  66.41703549,  56.83167284, ..., -38.82365979,\n",
       "          -11.51360315,  -3.60749466],\n",
       "         [ 52.33237968,  39.16658743,  18.02200371, ..., -24.40544278,\n",
       "           -6.99762442, -10.15888105],\n",
       "         ...,\n",
       "         [ 16.17833726,  18.60611358,  13.44216719, ...,  -1.55294453,\n",
       "            1.85604559,   1.96240169],\n",
       "         [ 44.57447676,  38.30097413,  24.19761543, ..., -21.5615681 ,\n",
       "           -9.29612115,  -9.91041113],\n",
       "         [ 37.1734408 ,  30.30904533,  15.97474878, ...,   3.05731986,\n",
       "           18.56523832,  25.01297254]],\n",
       " \n",
       "        [[ 19.47221644,  25.03004243,  16.13751626, ..., -42.20521697,\n",
       "          -20.2831522 , -21.59691011],\n",
       "         [ 79.01404065,  85.69856014,  79.68682481, ..., -29.2048948 ,\n",
       "          -45.08044419, -60.04241865],\n",
       "         [ 28.79457309,  36.15248994,  34.896824  , ..., -38.64278488,\n",
       "          -17.87030759, -21.42839253],\n",
       "         ...,\n",
       "         [ 14.9304287 ,   1.15225586,  -1.42660854, ..., -16.57393966,\n",
       "          -11.39140111,  -8.88489629],\n",
       "         [ 17.4394522 ,   9.38717227,   8.19598783, ...,  -2.15522207,\n",
       "           -8.05086581,  -6.22390228],\n",
       "         [ -8.69974176, -10.64521941, -12.17764615, ...,  -7.17194699,\n",
       "           14.9434438 ,  17.96658718]]]),\n",
       " 'EMCI': array([[[-1.78888728e+01, -4.44873872e+00,  7.14393367e+00, ...,\n",
       "          -8.25487775e+01, -6.20899781e+01, -4.64353816e+01],\n",
       "         [-9.37974097e+00,  5.57580862e-01,  2.49787638e+01, ...,\n",
       "          -8.11786191e+01, -5.63008385e+01, -3.70719225e+01],\n",
       "         [ 3.25402832e+01,  3.61184128e+01,  3.77616727e+01, ...,\n",
       "          -2.50823319e+01, -2.00759127e+01, -2.21996016e+01],\n",
       "         ...,\n",
       "         [ 3.36947622e+00, -3.31811144e+00, -1.62399288e+01, ...,\n",
       "          -3.59365712e+01, -3.62218521e+01, -2.49282371e+01],\n",
       "         [-7.00460164e+00, -5.30696099e+00, -3.66321641e+00, ...,\n",
       "          -4.19289144e+01, -4.26955547e+01, -1.95042663e+01],\n",
       "         [-1.56227487e+01, -1.85804143e+01, -1.75887884e+01, ...,\n",
       "          -3.75059009e+01, -4.96934797e+01, -4.05006524e+01]],\n",
       " \n",
       "        [[-4.42232988e+01, -3.80830760e+00,  3.11207078e+01, ...,\n",
       "          -3.55948473e+01, -5.57416163e+01, -7.25121251e+01],\n",
       "         [-6.67610353e+01, -2.87533417e+01,  2.06532228e+01, ...,\n",
       "          -5.83132679e+01, -4.94862010e+01, -4.35350245e+01],\n",
       "         [-9.58919039e+00,  4.41973260e+00,  2.25735983e+01, ...,\n",
       "          -4.19713907e+01, -6.67739409e+01, -9.67645221e+01],\n",
       "         ...,\n",
       "         [-9.93638079e+00, -8.15009725e+00, -1.45230409e-01, ...,\n",
       "          -2.14218926e+00, -8.62233283e+00, -1.03364124e+01],\n",
       "         [-6.58905508e+01, -6.92650974e+01, -4.71332566e+01, ...,\n",
       "          -3.74743244e+01, -2.73108016e+01, -2.88455050e+01],\n",
       "         [-1.43196100e+01, -7.14958796e+00, -5.06368469e-01, ...,\n",
       "          -3.64310529e+01, -3.53987927e+01, -4.97969286e+01]],\n",
       " \n",
       "        [[ 1.60122836e+01,  2.85732801e+01,  4.34037412e+01, ...,\n",
       "          -1.00886807e+01,  2.33993796e-02,  2.98416715e+00],\n",
       "         [ 2.02711721e+01,  2.54960573e+01,  3.73657563e+01, ...,\n",
       "          -3.14241238e+01, -7.58224351e+00,  3.95779797e+00],\n",
       "         [ 1.12155184e+01,  8.48521710e+00, -2.68110685e+00, ...,\n",
       "          -3.86920986e+01, -2.52289569e+01, -1.11784440e+01],\n",
       "         ...,\n",
       "         [ 4.27103996e+00,  1.40676384e+01,  3.16724315e+01, ...,\n",
       "          -5.45016623e+00,  9.17852304e+00,  1.19278334e+01],\n",
       "         [ 1.17210712e+00, -1.34501315e+00, -7.04998728e+00, ...,\n",
       "          -2.33497981e+01, -1.42667359e+01, -1.86678528e+00],\n",
       "         [ 5.20557564e+00,  7.79965033e+00,  6.82880583e+00, ...,\n",
       "          -2.07421853e+01, -8.61855414e+00,  5.09614780e+00]],\n",
       " \n",
       "        ...,\n",
       " \n",
       "        [[ 6.14867768e+01,  6.34362399e+01,  5.59358918e+01, ...,\n",
       "          -3.24051963e+01, -3.12096744e+01, -4.15735241e+01],\n",
       "         [ 6.21970474e+01,  6.49161708e+01,  6.21509718e+01, ...,\n",
       "          -3.83666020e+01, -2.93011077e+01, -4.32377791e+01],\n",
       "         [ 3.88801274e+01,  4.69532314e+01,  4.08602797e+01, ...,\n",
       "          -1.76071072e+01, -2.56018447e+01, -3.46755349e+01],\n",
       "         ...,\n",
       "         [ 7.77781929e+00,  1.63068896e+01,  2.21256500e+01, ...,\n",
       "          -5.77852540e+00, -8.07297104e+00, -1.71153539e+01],\n",
       "         [ 9.29490496e+00,  1.55213902e+01,  1.20407669e+01, ...,\n",
       "           4.13221341e+00, -5.05678360e-01, -1.08160585e+01],\n",
       "         [ 1.00055779e+01,  1.57193525e+01,  1.69793914e+01, ...,\n",
       "           1.62862711e+00,  6.16750876e+00, -1.82280469e-01]],\n",
       " \n",
       "        [[ 1.02432494e+01,  2.90717499e+01,  2.66970256e+01, ...,\n",
       "          -7.22289308e+01, -7.30933258e+01, -7.09640003e+01],\n",
       "         [ 2.06631693e+01,  3.13877644e+01,  2.96992583e+01, ...,\n",
       "          -8.00806776e+01, -6.47337549e+01, -4.93024573e+01],\n",
       "         [ 3.88149211e+01,  5.55355042e+01,  6.05972211e+01, ...,\n",
       "          -3.67848601e+01, -3.57295689e+01, -3.58191701e+01],\n",
       "         ...,\n",
       "         [-4.04414665e+00, -1.22420134e-01, -4.21714073e+00, ...,\n",
       "          -3.45653238e+01, -2.62637265e+01, -1.45318031e+01],\n",
       "         [ 8.33288317e+00,  1.94413213e+01,  2.02576847e+01, ...,\n",
       "          -3.48681442e+01, -2.14623894e+01, -4.10661821e+00],\n",
       "         [-1.61694616e+00,  1.11176709e+00,  3.94842685e+00, ...,\n",
       "          -2.01326494e+01, -1.97284486e+01, -1.75796760e+01]],\n",
       " \n",
       "        [[ 4.94057304e+01,  2.96790308e+01,  7.51593174e+00, ...,\n",
       "          -1.17217026e+01, -1.65081076e+01, -3.37317266e+01],\n",
       "         [ 7.54207216e+01,  5.39226774e+01,  2.21198611e+01, ...,\n",
       "          -2.02489798e+01, -1.20430128e+01, -2.49240257e+01],\n",
       "         [ 4.09916744e+01,  1.86858500e+01, -5.58622897e+00, ...,\n",
       "          -2.57234184e+01, -2.27148515e+01, -2.73799177e+01],\n",
       "         ...,\n",
       "         [ 3.58724573e+01,  6.40683720e+01,  5.06563976e+01, ...,\n",
       "          -6.66228256e+00, -1.11780622e+01, -1.74782899e+01],\n",
       "         [ 3.03510695e+01,  4.10849100e+01,  3.50381417e+01, ...,\n",
       "           4.14407546e+00, -5.07938371e+00, -1.64154903e+01],\n",
       "         [ 5.57221564e+01,  5.86972593e+01,  3.31101266e+01, ...,\n",
       "          -1.88926395e+01, -1.04063880e+01, -4.95789227e+00]]]),\n",
       " 'LMCI': array([[[  15.63575605,    9.28124814,   16.28711299, ...,\n",
       "            -8.63340067,   -3.31497154,   -9.20639291],\n",
       "         [   2.83678405,   -1.84971442,   -0.91830167, ...,\n",
       "            -5.12553658,   -0.76149969,   -7.69917937],\n",
       "         [  33.53948635,   18.38957939,    6.96025695, ...,\n",
       "           -22.15000905,  -15.46239151,  -21.41393282],\n",
       "         ...,\n",
       "         [   0.18707356,    3.26151613,   10.21232983, ...,\n",
       "           -17.26191103,  -11.0688935 ,   -3.66003535],\n",
       "         [  -4.27367603,    0.20666888,    4.03028666, ...,\n",
       "           -13.51871303,   -3.62026872,    9.03706514],\n",
       "         [   8.03380194,   13.4085571 ,   22.48404762, ...,\n",
       "           -12.67536036,   -3.73829442,    6.16067259]],\n",
       " \n",
       "        [[ -60.81707224,  -44.58130505,  -11.98940404, ...,\n",
       "           -49.09430956,  -55.76084536,  -46.49585433],\n",
       "         [  12.92391399,   13.34265668,   21.69401172, ...,\n",
       "           -13.98338039,  -62.05469608,  -70.13847347],\n",
       "         [  -3.68093651,   24.88487966,   47.82270644, ...,\n",
       "           -37.87770413,  -42.03367139,  -34.61071075],\n",
       "         ...,\n",
       "         [ -35.29085794,  -13.954298  ,   -2.85006868, ...,\n",
       "            11.03213569,   22.45295528,  -25.70371946],\n",
       "         [   8.02950752,   10.91149982,   10.44499563, ...,\n",
       "            21.73409903,   -1.6604353 ,   -5.24462727],\n",
       "         [ -44.78955582,  -28.02537708,  -20.59494354, ...,\n",
       "           -24.10162269,  -11.25088235,   -4.35799825]],\n",
       " \n",
       "        [[  -2.42806923,  -12.85197748,  -11.80092676, ...,\n",
       "            -7.98739408,  -21.93297759,  -22.0023621 ],\n",
       "         [  -2.69913149,   -7.46712931,   -2.64082338, ...,\n",
       "             7.38955265,    8.17102947,    1.56203412],\n",
       "         [ -11.23681942,  -26.72610185,   -7.85809045, ...,\n",
       "             7.62890283,   -2.89562878,   -0.32555352],\n",
       "         ...,\n",
       "         [  10.35567235,   14.07332066,   13.25356089, ...,\n",
       "           -18.65511621,  -22.54584633,  -19.79731746],\n",
       "         [   7.73968655,    6.873837  ,    6.57296071, ...,\n",
       "            22.42759203,   26.94953826,   17.77398931],\n",
       "         [   2.18075795,   -4.59721257,   -2.64098127, ...,\n",
       "            -4.34052727,  -12.96880445,   -8.93919432]],\n",
       " \n",
       "        ...,\n",
       " \n",
       "        [[  12.45067394,   13.80186721,   20.46509425, ...,\n",
       "           -10.66020719,  -13.0083837 ,  -14.18928868],\n",
       "         [  19.23719846,   25.38943266,   29.28479486, ...,\n",
       "           -20.84506521,  -16.84260899,  -15.78194613],\n",
       "         [  -7.17286921,   -5.13642456,   -4.65885556, ...,\n",
       "            -8.18951073,  -10.32773583,  -10.93914424],\n",
       "         ...,\n",
       "         [  19.77036947,   39.05595236,   44.90155195, ...,\n",
       "           -10.1574596 ,  -17.2155506 ,  -24.01757086],\n",
       "         [   5.33016015,   10.26992952,   15.28211765, ...,\n",
       "            -0.68844678,   -4.35726972,   -9.57341968],\n",
       "         [   7.13970459,   10.73690523,   10.67237195, ...,\n",
       "             1.39830587,   -2.30435973,   -8.90577568]],\n",
       " \n",
       "        [[  64.04416091,   58.81923468,   25.21094473, ...,\n",
       "           -88.77499441,  -76.72309548,  -71.26954674],\n",
       "         [  41.54701803,   17.14432078,    2.88051648, ...,\n",
       "           -20.90600119,   11.12588786,   29.04181676],\n",
       "         [  55.48198611,   75.16332174,   70.25652149, ...,\n",
       "          -120.09864349,  -63.93261007,  -21.24953232],\n",
       "         ...,\n",
       "         [  14.15630581,  -21.86954156,  -39.73508951, ...,\n",
       "           -28.88058444,  -25.30271396,  -40.18517929],\n",
       "         [  61.11640346,   22.731541  ,  -36.19982552, ...,\n",
       "            31.00412149,   78.54833817,   88.86653935],\n",
       "         [  31.38781128,    9.09737443,  -15.08055422, ...,\n",
       "           -52.84455049,  -40.26993158,  -44.99382493]],\n",
       " \n",
       "        [[  12.43872646,   25.96989601,   35.87460078, ...,\n",
       "            61.67652813,   41.13176124,   17.04794694],\n",
       "         [   8.84485199,   20.63222382,   30.15210577, ...,\n",
       "           -46.12800632,  -60.88286845,  -72.07953404],\n",
       "         [  26.77568812,   41.05993271,   49.3529475 , ...,\n",
       "            63.01944877,   33.5005928 ,   15.83564102],\n",
       "         ...,\n",
       "         [  15.48202032,   21.91386463,    7.18559429, ...,\n",
       "           -12.6970075 ,   -0.75830809,   19.42568399],\n",
       "         [  -6.03456865,   -0.34775969,   -3.58966818, ...,\n",
       "           -27.77835706,  -25.37834038,  -16.8866466 ],\n",
       "         [   6.62234756,   13.84618263,   14.59433105, ...,\n",
       "            43.99471006,   39.56438412,   33.46945062]]]),\n",
       " 'NC': array([[[  8.82624612,  -4.92426078, -20.35204742, ..., -32.63843792,\n",
       "           -8.89601001,  -6.71820649],\n",
       "         [ 27.97148756,  28.64031914,   0.86310318, ..., -15.3729321 ,\n",
       "            5.43378439,  -8.2949081 ],\n",
       "         [  9.2310598 ,   0.64196153,  -2.13921991, ..., -10.41914268,\n",
       "           -1.64682616, -20.2692898 ],\n",
       "         ...,\n",
       "         [ 20.80453532,  15.56997786,   9.93979988, ...,  -6.63204003,\n",
       "            1.85254624,   3.38781001],\n",
       "         [ -1.52069314, -12.52335236,  -7.31265842, ..., -22.51530599,\n",
       "          -13.9046557 , -13.31035017],\n",
       "         [ 10.61077779,  -7.84272115, -15.7284702 , ..., -32.45152592,\n",
       "          -19.80077078,  -7.27908501]],\n",
       " \n",
       "        [[-16.64823077, -22.38283625, -13.25361528, ..., -10.26592635,\n",
       "          -15.00687254,  -2.0449733 ],\n",
       "         [-50.10209073, -30.78708034,   8.21470165, ...,  43.33094791,\n",
       "           24.32455918,  12.74215514],\n",
       "         [-16.94973723, -13.91325092,   2.61020106, ...,  -1.72058872,\n",
       "          -12.72540283,  -6.95691105],\n",
       "         ...,\n",
       "         [-24.92726344, -18.99193917,   9.0486905 , ..., -10.57111378,\n",
       "            1.81711873,  13.85996683],\n",
       "         [ -7.89322797,  -0.62806668,   7.64856257, ...,   4.51150177,\n",
       "            5.80656003,  10.9969532 ],\n",
       "         [  3.10467965,  -1.65784667,   0.39883997, ..., -21.34355002,\n",
       "          -14.7090878 ,  -2.22346042]],\n",
       " \n",
       "        [[ 28.08127042,  19.07377252,  -0.90265458, ..., -58.33894481,\n",
       "          -32.06266803, -14.84388816],\n",
       "         [ 19.51720135,  21.10398901,  13.01372488, ..., -51.43355578,\n",
       "          -28.49273242, -15.85169672],\n",
       "         [ 44.34767421,  29.12533575,  10.3187946 , ..., -31.17447258,\n",
       "           -9.80207973,   4.04745064],\n",
       "         ...,\n",
       "         [-16.27450623, -10.75764853,  -1.04298843, ...,  -1.34629731,\n",
       "            5.04472364,  -3.325364  ],\n",
       "         [  0.4815816 ,  10.55718035,  14.53814997, ..., -26.08238251,\n",
       "          -20.26432852, -14.68708302],\n",
       "         [  2.95769094,   9.6935316 ,  13.34071981, ..., -30.27775411,\n",
       "          -25.2819698 , -13.71761979]],\n",
       " \n",
       "        ...,\n",
       " \n",
       "        [[ 30.50385537,  65.10036187,  90.8743128 , ..., -60.74891697,\n",
       "          -53.95487121, -48.13645376],\n",
       "         [ 47.29985717,  83.95459715, 100.21009927, ..., -85.35664456,\n",
       "          -70.59580101, -46.08565541],\n",
       "         [ 40.38097838,  74.21880043, 103.23925684, ..., -25.88972202,\n",
       "          -36.9094787 , -48.67433716],\n",
       "         ...,\n",
       "         [  6.77715775,  13.83743699,  16.78769554, ...,  -8.2184336 ,\n",
       "          -12.29191954, -26.25421378],\n",
       "         [  1.71568274,  17.49473665,  39.02544782, ..., -12.95406102,\n",
       "          -12.10947734, -24.04711444],\n",
       "         [ -1.37721684,   7.69670224,  13.3872792 , ..., -19.99992981,\n",
       "          -13.45161995, -14.74707989]],\n",
       " \n",
       "        [[-27.35168769, -33.9730389 , -28.20561018, ...,  15.61367802,\n",
       "           25.75278953,  31.04557682],\n",
       "         [-21.55502275, -20.55383164,  -9.74099784, ...,  19.80147785,\n",
       "           35.8593978 ,  45.62907018],\n",
       "         [ -6.41642857, -47.41807068, -61.92067836, ...,  -6.16284723,\n",
       "           -1.65906683,  11.26269218],\n",
       "         ...,\n",
       "         [-15.62789598, -18.81129512, -21.91218831, ...,  29.01477376,\n",
       "           27.75908879,  27.41917622],\n",
       "         [ -4.53800929, -28.03232931, -37.52110555, ...,   2.36329827,\n",
       "           10.30574126,  10.4344945 ],\n",
       "         [-21.23538608, -29.87085221, -25.74925683, ...,   9.03208427,\n",
       "           10.08107423,   7.15340165]],\n",
       " \n",
       "        [[  2.90693528,  14.32309635,  27.58352879, ..., -20.67932746,\n",
       "           -7.77697952,  -0.86660205],\n",
       "         [ 18.3159302 ,   3.14720947,  10.6983534 , ..., -53.92999926,\n",
       "          -25.55273848,   3.22120788],\n",
       "         [  6.15142558,  12.22295868,  29.47102031, ..., -31.36325104,\n",
       "          -10.42110246,   4.93341391],\n",
       "         ...,\n",
       "         [  0.55730473,  -4.38671959,  -1.2493723 , ...,  10.44003037,\n",
       "            5.4365811 ,  -0.57026097],\n",
       "         [  8.23833571,   3.77781106,  -0.61495255, ...,   5.83089962,\n",
       "            2.85074702,  -0.37678747],\n",
       "         [ 12.55192591,   4.18054546,  -3.90615255, ...,   4.70467233,\n",
       "            2.90086209,  -1.10391936]]])}"
      ]
     },
     "execution_count": 2,
     "metadata": {},
     "output_type": "execute_result"
    }
   ],
   "source": [
    "data = sio.loadmat('ADNI_90_120_fMRI.mat')\n",
    "data"
   ]
  },
  {
   "cell_type": "code",
   "execution_count": 3,
   "metadata": {},
   "outputs": [
    {
     "name": "stdout",
     "output_type": "stream",
     "text": [
      "没有加伪样本的时候有48个正样本，有59个负样本，一共有107个样本\n",
      "加了伪样本之后有104个正样本，有102个负样本，一共有206个样本\n",
      "(48, 90, 120) (59, 90, 120) (107, 90, 120) (48,) 59 48 8100\n"
     ]
    }
   ],
   "source": [
    "x_positive = data['NC']\n",
    "x_negative = data['AD']\n",
    "x_fake_positive = data['EMCI']\n",
    "x_fake_negative = data['LMCI']\n",
    "x_total = np.concatenate((x_positive, x_negative), axis=0).astype(np.float)\n",
    "y_positive = np.ones(x_positive.shape[0])\n",
    "y_fake_positive = np.ones(x_fake_positive.shape[0])\n",
    "y_fake_negative = np.zeros(x_negative.shape[0])\n",
    "y_negative = np.zeros(x_negative.shape[0])\n",
    "y_total = np.concatenate((y_positive, y_negative), axis=0).astype(np.float)\n",
    "print('没有加伪样本的时候有{}个正样本，有{}个负样本，一共有{}个样本'.format(y_positive.shape[0], y_negative.shape[0], x_total.shape[0]))\n",
    "num_x_pos = x_positive.shape[0]\n",
    "num_x_neg = x_negative.shape[0]\n",
    "dim_input = np.prod(x_positive.shape[1]**2)\n",
    "num_x_fake_pos = x_fake_positive.shape[0]\n",
    "num_x_fake_neg = x_fake_negative.shape[0]\n",
    "x_total_faked = np.concatenate((x_positive, x_fake_positive, x_fake_negative, x_negative), axis=0).astype(np.float)\n",
    "y_total_faked = np.concatenate((y_positive, y_fake_positive, y_fake_negative, y_negative), axis=0).astype(np.float)\n",
    "num_fake_total = x_total_faked.shape[0]\n",
    "num_total = x_total.shape[0]\n",
    "print('加了伪样本之后有{}个正样本，有{}个负样本，一共有{}个样本'.format(num_x_fake_pos+num_x_pos, num_x_fake_neg+num_x_neg, num_fake_total))\n",
    "print(x_positive.shape, x_negative.shape, x_total.shape, y_positive.shape, num_x_neg, num_x_pos, dim_input)"
   ]
  },
  {
   "cell_type": "code",
   "execution_count": 4,
   "metadata": {},
   "outputs": [],
   "source": [
    "# x_total_faked"
   ]
  },
  {
   "cell_type": "markdown",
   "metadata": {},
   "source": [
    "## 利用TSNE和PCA的可视化，发现几乎不具有线性可分性"
   ]
  },
  {
   "cell_type": "code",
   "execution_count": 5,
   "metadata": {},
   "outputs": [
    {
     "name": "stdout",
     "output_type": "stream",
     "text": [
      "(107, 2)\n"
     ]
    }
   ],
   "source": [
    "x_tsne = TSNE(n_components=2).fit_transform(x_total.reshape(num_total, -1))\n",
    "print(x_tsne.shape)"
   ]
  },
  {
   "cell_type": "code",
   "execution_count": 6,
   "metadata": {},
   "outputs": [
    {
     "data": {
      "text/plain": [
       "<matplotlib.collections.PathCollection at 0x1a0ac58ae88>"
      ]
     },
     "execution_count": 6,
     "metadata": {},
     "output_type": "execute_result"
    },
    {
     "data": {
      "image/png": "[encoded data removed]",
      "text/plain": [
       "<Figure size 432x288 with 1 Axes>"
      ]
     },
     "metadata": {
      "needs_background": "light"
     },
     "output_type": "display_data"
    }
   ],
   "source": [
    "plt.scatter(x_tsne[:, 0], x_tsne[:, 1], c = list(y_total))"
   ]
  },
  {
   "cell_type": "code",
   "execution_count": 7,
   "metadata": {},
   "outputs": [
    {
     "name": "stdout",
     "output_type": "stream",
     "text": [
      "(107, 2)\n"
     ]
    }
   ],
   "source": [
    "x_pca = PCA(n_components=2).fit_transform(x_total.reshape(num_total, -1))\n",
    "print(x_pca.shape)"
   ]
  },
  {
   "cell_type": "code",
   "execution_count": 8,
   "metadata": {},
   "outputs": [
    {
     "data": {
      "text/plain": [
       "<matplotlib.collections.PathCollection at 0x1a0ac6a0e88>"
      ]
     },
     "execution_count": 8,
     "metadata": {},
     "output_type": "execute_result"
    },
    {
     "data": {
      "image/png": "[encoded data removed]",
      "text/plain": [
       "<Figure size 432x288 with 1 Axes>"
      ]
     },
     "metadata": {
      "needs_background": "light"
     },
     "output_type": "display_data"
    }
   ],
   "source": [
    "plt.scatter(x_pca[:, 0], x_pca[:, 1], c = list(y_total))"
   ]
  },
  {
   "cell_type": "markdown",
   "metadata": {},
   "source": [
    "## 数据预处理（划分train/test dataset和载入dataloader）"
   ]
  },
  {
   "cell_type": "markdown",
   "metadata": {},
   "source": [
    "### 数据预处理第一步，计算相关系数"
   ]
  },
  {
   "cell_type": "code",
   "execution_count": 9,
   "metadata": {},
   "outputs": [
    {
     "name": "stdout",
     "output_type": "stream",
     "text": [
      "(107, 8100)\n"
     ]
    }
   ],
   "source": [
    "import torch\n",
    "def corrcoef(input):\n",
    "    \"\"\"传入一个tensor格式的矩阵x(x.shape(m,n))，输出其相关系数矩阵\"\"\"\n",
    "    output = []\n",
    "    for index, x in enumerate(input):\n",
    "        f = (x.shape[0] - 1) / x.shape[0]      # 方差调整系数\n",
    "        x_reducemean = x - np.mean(x, axis=0)\n",
    "        numerator = np.matmul(x_reducemean.T, x_reducemean) / x.shape[0]\n",
    "        var_ = x.var(axis=0).reshape(x.shape[1], 1)\n",
    "        denominator = np.sqrt(np.matmul(var_, var_.T)) * f\n",
    "        output.append(numerator / denominator)\n",
    "    return output\n",
    "pearson = corrcoef(x_total.reshape(107, 120, 90))\n",
    "pearson = np.array(pearson).reshape(107, -1)\n",
    "print(pearson.shape)\n",
    "x_total = pearson"
   ]
  },
  {
   "cell_type": "markdown",
   "metadata": {},
   "source": [
    "### 数据预处理第二步，划分t/t dataset和载入dataloader"
   ]
  },
  {
   "cell_type": "code",
   "execution_count": 27,
   "metadata": {},
   "outputs": [
    {
     "name": "stdout",
     "output_type": "stream",
     "text": [
      "(85, 8100) (85, 1)\n",
      "(11, 8100) (11, 1)\n",
      "(11, 8100) (11, 1)\n",
      "85 11 11\n"
     ]
    }
   ],
   "source": [
    "import torch\n",
    "import torch.utils.data as Data\n",
    "import torch.nn as nn\n",
    "import torchvision.transforms as transforms\n",
    "import torch.optim as optim\n",
    "from torch.autograd import Variable\n",
    "import random\n",
    "random.seed(1)\n",
    "\n",
    "device = 'cuda' if torch.cuda.is_available() else 'cpu'\n",
    "################# batch_size也是一个超参数，第一个调整的参数就是batch_size,可选：1，2，4，8，16，32。\n",
    "batch_size = 4\n",
    "\n",
    "train_size = int(0.8*x_total.shape[0])\n",
    "test_size = int(0.9*x_total.shape[0])\n",
    "\n",
    "mixed = np.concatenate((x_total, y_total.reshape((-1, 1))), axis = 1)\n",
    "random.shuffle(mixed)\n",
    "# print(mixed)\n",
    "x_train = mixed[:train_size, :dim_input]\n",
    "y_train = mixed[:train_size, dim_input:]\n",
    "print(x_train.shape, y_train.shape)\n",
    "x_val = mixed[train_size:test_size, :dim_input]\n",
    "y_val = mixed[train_size:test_size, dim_input:]\n",
    "print(x_val.shape, y_val.shape)\n",
    "x_test = mixed[test_size:, :dim_input]\n",
    "y_test = mixed[test_size:, dim_input:]\n",
    "print(x_test.shape, y_test.shape)\n",
    "\n",
    "# transform = transforms.Compose([\n",
    "#     transforms.Normalize(0.5, 0.5)\n",
    "# ])\n",
    "train_data = Data.TensorDataset(torch.Tensor(x_train), torch.Tensor(y_train))\n",
    "# print(train_data[0][0].dtype)\n",
    "val_data = Data.TensorDataset(torch.Tensor(x_val), torch.Tensor(y_val))\n",
    "test_data = Data.TensorDataset(torch.Tensor(x_test), torch.Tensor(y_test))\n",
    "train_loader = Data.DataLoader(dataset = train_data, batch_size = batch_size, shuffle=True, num_workers=1)\n",
    "val_loader = Data.DataLoader(dataset = val_data, batch_size = batch_size, shuffle=True, num_workers=1)\n",
    "test_loader = Data.DataLoader(dataset = test_data, batch_size = batch_size, shuffle=True, num_workers=1)\n",
    "total_loader = Data.DataLoader(dataset = Data.TensorDataset(torch.Tensor(mixed[:,:dim_input]), torch.Tensor(mixed[:, dim_input:])), batch_size = batch_size, shuffle=True, num_workers=1)\n",
    "print(len(train_data), len(val_data), len(test_data))"
   ]
  },
  {
   "cell_type": "markdown",
   "metadata": {},
   "source": [
    "下面只需要用train_loader作为迭代器，用x_val,y_val（迭代器val_loader）来调参，当在x_val和y_val上达到最优的时候，在x_test(test_loader)上测试一次，作为一个算法的最终结果"
   ]
  },
  {
   "cell_type": "code",
   "execution_count": 28,
   "metadata": {},
   "outputs": [],
   "source": [
    "########### 用于eval，非必要不改动\n",
    "########### 敏感性即召回率，true positive rate = TP/(TP+FN)\n",
    "########### 特异度为true negative rate = TN/(FP+TN)\n",
    "def evaluate_accuracy(loader, net):\n",
    "    net.eval()\n",
    "    sum_all = 0\n",
    "    sum_acc = 0\n",
    "    FN = 0\n",
    "    TN = 0\n",
    "    TP = 0\n",
    "    FP = 0\n",
    "    \n",
    "    for index, (data, label) in enumerate(loader):\n",
    "        with torch.no_grad():\n",
    "            data = Variable(data, requires_grad=True).to(device)\n",
    "            label = Variable(label, requires_grad=True).to(device)\n",
    "        outputs = (net(data) > 0.5).type(torch.float)\n",
    "#         print(outputs.shape, label.shape)\n",
    "        sum_acc += torch.sum(outputs.argmax(0) == label)\n",
    "        for i in range(outputs.shape[0]):\n",
    "            if outputs[i, 0] == label[i] and label[i] == 1:\n",
    "                TP += 1\n",
    "            elif outputs[i, 0] == label[i] and label[i] == 0:\n",
    "                TN += 1\n",
    "            elif outputs[i, 0] != label[i] and label[i] == 1:\n",
    "                FN += 1\n",
    "            else:\n",
    "                FP += 1\n",
    "        sum_all += data.shape[0]\n",
    "    print('total validation set data:{}, numbers of accurately labeled data:{}'.format(sum_all, sum_acc.detach()))\n",
    "    acc = sum_acc / sum_all\n",
    "    net.train()\n",
    "    sensitivity = TP / (TP + FN)\n",
    "    specificity = TN / (FP + TN)\n",
    "    return acc, sensitivity, specificity"
   ]
  },
  {
   "cell_type": "markdown",
   "metadata": {},
   "source": [
    "## 实现算法一（传统方法）"
   ]
  },
  {
   "cell_type": "code",
   "execution_count": 12,
   "metadata": {},
   "outputs": [],
   "source": [
    "##############在class里面定义自己的算法，xxxx是算法的名字。\n",
    "class xxxx(nn.Module):\n",
    "    def __init__(self, n_feature):\n",
    "        super(xxxx, self).__init__()\n",
    "        self.linear = nn.Linear(n_feature, 1)\n",
    "    \n",
    "        self.init_weights()\n",
    "\n",
    "    def init_weights(self):\n",
    "        \"\"\"Xavier initialization for the fully connected layer\n",
    "        \"\"\"\n",
    "        self.linear.weight.data.uniform_(-1, 1)\n",
    "        self.linear.bias.data.fill_(0)\n",
    "\n",
    "    def forward(self, x):\n",
    "        y = self.linear(x)\n",
    "        return torch.sigmoid(y)\n",
    "    \n",
    "# net = LinearNet(dim_input).to(device)\n",
    "# print(net) # 使用print可以打印出网络的结构"
   ]
  },
  {
   "cell_type": "markdown",
   "metadata": {},
   "source": [
    "## 实现算法二（传统方法/深度方法）"
   ]
  },
  {
   "cell_type": "code",
   "execution_count": 13,
   "metadata": {},
   "outputs": [],
   "source": [
    "# ##############在class里面定义自己的算法，xxxx是算法的名字。\n",
    "# class xxxx(nn.Module):\n",
    "#     def __init__(self, n_feature):\n",
    "#         super(xxxx, self).__init__()\n",
    "#         self.linear = nn.Linear(n_feature, 1)\n",
    "    \n",
    "#         self.init_weights()\n",
    "\n",
    "#     def init_weights(self):\n",
    "#         \"\"\"Xavier initialization for the fully connected layer\n",
    "#         \"\"\"\n",
    "#         self.linear.weight.data.uniform_(-1, 1)\n",
    "#         self.linear.bias.data.fill_(0)\n",
    "\n",
    "#     def forward(self, x):\n",
    "#         y = self.linear(x)\n",
    "#         return torch.sigmoid(y)\n",
    "    \n",
    "# # net = LinearNet(dim_input).to(device)\n",
    "# # print(net) # 使用print可以打印出网络的结构"
   ]
  },
  {
   "cell_type": "markdown",
   "metadata": {},
   "source": [
    "## 实现算法三（深度方法）"
   ]
  },
  {
   "cell_type": "code",
   "execution_count": 14,
   "metadata": {},
   "outputs": [],
   "source": [
    "# ##############在class里面定义自己的算法，xxxx是算法的名字。\n",
    "# class xxxx(nn.Module):\n",
    "#     def __init__(self, n_feature):\n",
    "#         super(xxxx, self).__init__()\n",
    "#         self.linear = nn.Linear(n_feature, 1)\n",
    "    \n",
    "#         self.init_weights()\n",
    "\n",
    "#     def init_weights(self):\n",
    "#         \"\"\"Xavier initialization for the fully connected layer\n",
    "#         \"\"\"\n",
    "#         self.linear.weight.data.uniform_(-1, 1)\n",
    "#         self.linear.bias.data.fill_(0)\n",
    "\n",
    "#     def forward(self, x):\n",
    "#         y = self.linear(x)\n",
    "#         return torch.sigmoid(y)\n",
    "    \n",
    "# # net = LinearNet(dim_input).to(device)\n",
    "\n",
    "# # print(net) # 使用print可以打印出网络的结构"
   ]
  },
  {
   "cell_type": "markdown",
   "metadata": {},
   "source": [
    "## 训练准备（目标函数、优化方法、超参数）"
   ]
  },
  {
   "cell_type": "code",
   "execution_count": 15,
   "metadata": {},
   "outputs": [],
   "source": [
    "learning_rate = 0.01 # 学习率\n",
    "num_epochs = 5 # 训练的epoch"
   ]
  },
  {
   "cell_type": "code",
   "execution_count": 18,
   "metadata": {},
   "outputs": [],
   "source": [
    "######### 实例化算法对象\n",
    "xx = xxxx(dim_input).to(device)\n",
    "######### 选择损失函数MSELoss\n",
    "criterion = nn.BCELoss().to(device)\n",
    "########### 选择minibatch SGD算法\n",
    "learning_rate = 0.0001\n",
    "########## 这里面的xxxx是算法对象的实例化，我们的优化算法固定为SGD，可选momentum和nesterov，lr为超参数需要调优\n",
    "optimizer = optim.SGD(xx.parameters(), lr=learning_rate)"
   ]
  },
  {
   "cell_type": "markdown",
   "metadata": {},
   "source": [
    "## 具体训练代码"
   ]
  },
  {
   "cell_type": "code",
   "execution_count": 23,
   "metadata": {
    "scrolled": false
   },
   "outputs": [
    {
     "name": "stdout",
     "output_type": "stream",
     "text": [
      "Epoch:1\n",
      "\tloss:0.3153451383113861\n",
      "\tloss:2.8133790493011475\n",
      "\tloss:3.8453285694122314\n",
      "total validation set data:11, numbers of accurately labeled data:9\n",
      "Epoch:1, Accuracy:0.8181818723678589, Sensitivity:0.75, Specificity:0.2857142857142857\n",
      "\n",
      "\n",
      "Epoch:2\n",
      "\tloss:0.060627855360507965\n",
      "\tloss:2.97847318649292\n",
      "\tloss:3.735774278640747\n",
      "total validation set data:11, numbers of accurately labeled data:7\n",
      "Epoch:2, Accuracy:0.6363636255264282, Sensitivity:0.75, Specificity:0.2857142857142857\n",
      "\n",
      "\n",
      "Epoch:3\n",
      "\tloss:0.0026769295800477266\n",
      "\tloss:3.2467358112335205\n",
      "\tloss:3.3424618244171143\n",
      "total validation set data:11, numbers of accurately labeled data:7\n",
      "Epoch:3, Accuracy:0.6363636255264282, Sensitivity:0.75, Specificity:0.2857142857142857\n",
      "\n",
      "\n",
      "Epoch:4\n",
      "\tloss:0.24946759641170502\n",
      "\tloss:2.630180835723877\n",
      "\tloss:3.5310933589935303\n",
      "total validation set data:11, numbers of accurately labeled data:4\n",
      "Epoch:4, Accuracy:0.3636363744735718, Sensitivity:0.75, Specificity:0.2857142857142857\n",
      "\n",
      "\n",
      "Epoch:5\n",
      "\tloss:0.4881194531917572\n",
      "\tloss:3.275648832321167\n",
      "\tloss:2.304887056350708\n",
      "total validation set data:11, numbers of accurately labeled data:5\n",
      "Epoch:5, Accuracy:0.4545454680919647, Sensitivity:0.75, Specificity:0.2857142857142857\n",
      "\n",
      "\n"
     ]
    }
   ],
   "source": [
    "#########  训练过程，可以不动它\n",
    "losses = []\n",
    "accuracy = []\n",
    "sensitivity = []\n",
    "specificity = []\n",
    "preds = []\n",
    "labels = []\n",
    "print_every = 10\n",
    "print_loss_total = 0\n",
    "for epoch in range(num_epochs):\n",
    "    xx.train()\n",
    "    print('Epoch:{}'.format(epoch+1))\n",
    "    for index, (data1, label1) in enumerate(train_loader):\n",
    "        data = Variable(data1, requires_grad=True).to(device)\n",
    "        label = Variable(label1, requires_grad=True).to(device)\n",
    "        output = xx(data)\n",
    "#         label = label.squeeze()\n",
    "        loss = criterion(output, label.detach())\n",
    "\n",
    "        print_loss_total += loss\n",
    "        \n",
    "        optimizer.zero_grad()\n",
    "        loss.backward()\n",
    "        optimizer.step()\n",
    "        for i in range(data.shape[0]):\n",
    "            preds.append(output[i].detach().cpu())\n",
    "            labels.append(label[i].detach().cpu())\n",
    "        if index % print_every == 0:\n",
    "            print_loss_avg = print_loss_total / print_every\n",
    "            print('\\tloss:{}'.format(print_loss_avg))\n",
    "            losses.append(print_loss_avg)\n",
    "            print_loss_total = 0\n",
    "    acc, sen, spe = evaluate_accuracy(val_loader, xx)\n",
    "    accuracy.append(acc)\n",
    "    sensitivity.append(sen)\n",
    "    specificity.append(spe)\n",
    "    print('Epoch:{}, Accuracy:{}, Sensitivity:{}, Specificity:{}'.format(epoch+1, acc, sen, spe))\n",
    "    print('\\n')"
   ]
  },
  {
   "cell_type": "markdown",
   "metadata": {},
   "source": [
    "## 可视化"
   ]
  },
  {
   "cell_type": "code",
   "execution_count": 24,
   "metadata": {},
   "outputs": [
    {
     "data": {
      "image/png": "[encoded data removed]",
      "text/plain": [
       "<Figure size 720x720 with 4 Axes>"
      ]
     },
     "metadata": {
      "needs_background": "light"
     },
     "output_type": "display_data"
    }
   ],
   "source": [
    "plt_list = [losses, accuracy, sensitivity, specificity]\n",
    "plt.figure(figsize = (10, 10))\n",
    "for i in range(4):\n",
    "    plt.subplot(4, 1, i + 1)\n",
    "    plt.plot(plt_list[i])"
   ]
  },
  {
   "cell_type": "markdown",
   "metadata": {},
   "source": [
    "## ROC曲线可视化\n",
    "\n",
    "\n",
    "ROC曲线下的面积为AUC，这个面积（下面打印的结果）如果大于0.5就证明具有一定价值，越接近1越好。如果实验完全随机，那么面积就等于0.5，就相当于p用没有"
   ]
  },
  {
   "cell_type": "code",
   "execution_count": 25,
   "metadata": {},
   "outputs": [
    {
     "name": "stdout",
     "output_type": "stream",
     "text": [
      "0.5919466666666667\n"
     ]
    },
    {
     "data": {
      "image/png": "[encoded data removed]",
      "text/plain": [
       "<Figure size 432x288 with 1 Axes>"
      ]
     },
     "metadata": {
      "needs_background": "light"
     },
     "output_type": "display_data"
    }
   ],
   "source": [
    "# coding=UTF-8\n",
    "from sklearn import metrics\n",
    "import matplotlib.pylab as pylab\n",
    "\n",
    "# 这个GTlist是真实标签\n",
    "GTlist = labels\n",
    "# 这个是预测值，\n",
    "Problist = preds\n",
    "\n",
    "\n",
    "\n",
    "## 下面的不要改变\n",
    "fpr, tpr, thresholds = metrics.roc_curve(GTlist, Problist, pos_label=1)\n",
    "roc_auc = metrics.auc(fpr, tpr)  #auc为Roc曲线下的面积\n",
    "print(roc_auc)\n",
    "\n",
    " \n",
    "pylab.plot(fpr, tpr, 'b',label='AUC = %0.2f'% roc_auc)\n",
    "pylab.legend(loc='lower right')\n",
    "# plt.plot([0, 1], [0, 1], 'r--')\n",
    "pylab.xlim([-0.1, 1.1])\n",
    "pylab.ylim([-0.1, 1.1])\n",
    "pylab.xlabel('False Positive Rate') #横坐标是fpr\n",
    "pylab.ylabel('True Positive Rate')  #纵坐标是tpr\n",
    "pylab.title('Receiver operating characteristic example')\n",
    "pylab.show()"
   ]
  },
  {
   "cell_type": "markdown",
   "metadata": {},
   "source": [
    "## 当所有超参数调整好的时候，在测试集上运行一次，作为最终的accuracy，请记录下来"
   ]
  },
  {
   "cell_type": "code",
   "execution_count": 26,
   "metadata": {},
   "outputs": [
    {
     "name": "stdout",
     "output_type": "stream",
     "text": [
      "total validation set data:11, numbers of accurately labeled data:7\n",
      "Accuracy on test set:0.6363636255264282, \tSensitivity on test set:0.5, \tSpecificity on test set:0.0\n"
     ]
    }
   ],
   "source": [
    "acc, sen, spe = evaluate_accuracy(test_loader, xx)\n",
    "print('Accuracy on test set:{}, \\tSensitivity on test set:{}, \\tSpecificity on test set:{}'.format(acc, sen, spe))"
   ]
  },
  {
   "cell_type": "code",
   "execution_count": 30,
   "metadata": {},
   "outputs": [
    {
     "name": "stdout",
     "output_type": "stream",
     "text": [
      "total validation set data:107, numbers of accurately labeled data:30\n",
      "Accuracy on total set:0.28037381172180176, \tSensitivity on test set:0.6385542168674698, \tSpecificity on test set:0.20833333333333334\n"
     ]
    }
   ],
   "source": [
    "acc, sen, spe = evaluate_accuracy(total_loader, xx)\n",
    "print('Accuracy on total set:{}, \\tSensitivity on test set:{}, \\tSpecificity on test set:{}'.format(acc, sen, spe))"
   ]
  },
  {
   "cell_type": "code",
   "execution_count": null,
   "metadata": {},
   "outputs": [],
   "source": [
    "# ################################### test\n",
    "# # clf = SVC(kernel='linear')\n",
    "# # clf.fit(x_total, y_total)\n",
    "# # pred = clf.predict(x_total)\n",
    "# print(np.sum(preds==labels))\n",
    "# # print(f\"Classification report for classifier {xx>0.5}:\\n\"\n",
    "# #       f\"{metrics.classification_report(labels, preds)}\\n\")\n",
    "# disp = metrics.plot_confusion_matrix(xx, x_train, y_train)\n",
    "# disp.figure_.suptitle(\"Confusion Matrix\")\n",
    "# print(f\"Confusion matrix:\\n{disp.confusion_matrix}\")\n",
    "\n",
    "# plt.show()"
   ]
  },
  {
   "cell_type": "markdown",
   "metadata": {},
   "source": [
    "# ADNI"
   ]
  },
  {
   "cell_type": "code",
   "execution_count": null,
   "metadata": {},
   "outputs": [],
   "source": [
    "data_adni = sio.loadmat('ADNI.mat')\n",
    "x_positive = data_adni['NC']\n",
    "x_negative = data_adni['AD']\n",
    "x_total = np.concatenate((x_positive, x_negative), axis=0).astype(np.float)\n",
    "y_positive = np.ones(x_positive.shape[0])\n",
    "y_negative = np.zeros(x_negative.shape[0])\n",
    "y_total = np.concatenate((y_positive, y_negative), axis=0).astype(np.float)\n",
    "print('有{}个正样本，有{}个负样本，一共有{}个样本'.format(y_positive.shape[0], y_negative.shape[0], x_total.shape[0]))\n",
    "num_x_pos = x_positive.shape[0]\n",
    "num_x_neg = x_negative.shape[0]\n",
    "dim_input = x_positive.shape[1]\n",
    "print('x原本是只有一个特征的，为294维')\n",
    "print(x_positive.shape, x_negative.shape, x_total.shape, y_positive.shape, num_x_neg, num_x_pos, dim_input)"
   ]
  },
  {
   "cell_type": "markdown",
   "metadata": {},
   "source": [
    "# FTD_90_200_fMRI"
   ]
  },
  {
   "cell_type": "code",
   "execution_count": null,
   "metadata": {
    "scrolled": false
   },
   "outputs": [],
   "source": [
    "data_ftd = sio.loadmat('FTD_90_200_fMRI.mat')\n",
    "x_positive = data_ftd['NC']\n",
    "x_negative = data_ftd['FTD']\n",
    "x_total = np.concatenate((x_positive, x_negative), axis=0).astype(np.float)\n",
    "y_positive = np.ones(x_positive.shape[0])\n",
    "y_negative = np.zeros(x_negative.shape[0])\n",
    "y_total = np.concatenate((y_positive, y_negative), axis=0).astype(np.float)\n",
    "print('有{}个正样本，有{}个负样本，一共有{}个样本'.format(y_positive.shape[0], y_negative.shape[0], x_total.shape[0]))\n",
    "num_x_pos = x_positive.shape[0]\n",
    "num_x_neg = x_negative.shape[0]\n",
    "dim_input = x_positive.shape[1]\n",
    "print('x原本是只有一个特征的，为294维')\n",
    "print(x_positive.shape, x_negative.shape, x_total.shape, y_positive.shape, num_x_neg, num_x_pos, dim_input)"
   ]
  }
 ],
 "metadata": {
  "kernelspec": {
   "display_name": "Python 3",
   "language": "python",
   "name": "python3"
  },
  "language_info": {
   "codemirror_mode": {
    "name": "ipython",
    "version": 3
   },
   "file_extension": ".py",
   "mimetype": "text/x-python",
   "name": "python",
   "nbconvert_exporter": "python",
   "pygments_lexer": "ipython3",
   "version": "3.7.9"
  }
 },
 "nbformat": 4,
 "nbformat_minor": 4
}
